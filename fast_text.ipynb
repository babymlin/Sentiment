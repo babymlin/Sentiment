{
  "nbformat": 4,
  "nbformat_minor": 0,
  "metadata": {
    "colab": {
      "name": "fast_text.ipynb",
      "provenance": [],
      "include_colab_link": true
    },
    "kernelspec": {
      "name": "python3",
      "display_name": "Python 3"
    },
    "accelerator": "GPU"
  },
  "cells": [
    {
      "cell_type": "markdown",
      "metadata": {
        "id": "view-in-github",
        "colab_type": "text"
      },
      "source": [
        "<a href=\"https://colab.research.google.com/github/babymlin/Sentiment/blob/main/fast_text.ipynb\" target=\"_parent\"><img src=\"https://colab.research.google.com/assets/colab-badge.svg\" alt=\"Open In Colab\"/></a>"
      ]
    },
    {
      "cell_type": "code",
      "metadata": {
        "id": "HkZo-KWNetI4",
        "colab": {
          "base_uri": "https://localhost:8080/"
        },
        "outputId": "78629d94-5c83-429d-9c95-df15b2cf002e"
      },
      "source": [
        "# 下載fasttext千錘百鍊預訓練好的詞向量\n",
        "!wget https://dl.fbaipublicfiles.com/fasttext/vectors-crawl/cc.zh.300.bin.gz\n",
        "!gunzip cc.zh.300.bin.gz"
      ],
      "execution_count": 1,
      "outputs": [
        {
          "output_type": "stream",
          "text": [
            "--2021-07-15 06:08:07--  https://dl.fbaipublicfiles.com/fasttext/vectors-crawl/cc.zh.300.bin.gz\n",
            "Resolving dl.fbaipublicfiles.com (dl.fbaipublicfiles.com)... 104.22.75.142, 172.67.9.4, 104.22.74.142, ...\n",
            "Connecting to dl.fbaipublicfiles.com (dl.fbaipublicfiles.com)|104.22.75.142|:443... connected.\n",
            "HTTP request sent, awaiting response... 200 OK\n",
            "Length: 4478681770 (4.2G) [application/octet-stream]\n",
            "Saving to: ‘cc.zh.300.bin.gz’\n",
            "\n",
            "cc.zh.300.bin.gz    100%[===================>]   4.17G  37.4MB/s    in 82s     \n",
            "\n",
            "2021-07-15 06:09:29 (52.3 MB/s) - ‘cc.zh.300.bin.gz’ saved [4478681770/4478681770]\n",
            "\n"
          ],
          "name": "stdout"
        }
      ]
    },
    {
      "cell_type": "code",
      "metadata": {
        "id": "eVlV9SjqgWFS"
      },
      "source": [
        "from gensim.models.fasttext import FastText\n",
        "model = FastText.load_fasttext_format('cc.zh.300.bin')"
      ],
      "execution_count": null,
      "outputs": []
    },
    {
      "cell_type": "code",
      "metadata": {
        "id": "weRojINDubAO"
      },
      "source": [
        "import warnings\n",
        "warnings.filterwarnings(\"ignore\", category=FutureWarning)"
      ],
      "execution_count": null,
      "outputs": []
    },
    {
      "cell_type": "code",
      "metadata": {
        "id": "laoDFP6-Lr4l",
        "colab": {
          "base_uri": "https://localhost:8080/"
        },
        "outputId": "1f6932d3-6f1d-4ea9-9a49-940892a3a779"
      },
      "source": [
        "# 我們的模型裡面有多少個詞\n",
        "len(model.wv.vocab)"
      ],
      "execution_count": null,
      "outputs": [
        {
          "output_type": "execute_result",
          "data": {
            "text/plain": [
              "2000000"
            ]
          },
          "metadata": {
            "tags": []
          },
          "execution_count": 4
        }
      ]
    },
    {
      "cell_type": "code",
      "metadata": {
        "id": "Wue-ACwcDKmh",
        "colab": {
          "base_uri": "https://localhost:8080/"
        },
        "outputId": "ac6a2241-2be1-479d-9cee-00860703acbf"
      },
      "source": [
        "word = \"\\u5468\\u6770\\u502B\"#@param {type:\"string\"}\n",
        "print(word, \"長這樣:\")\n",
        "model.wv[word]"
      ],
      "execution_count": null,
      "outputs": [
        {
          "output_type": "stream",
          "text": [
            "五月天 長這樣:\n"
          ],
          "name": "stdout"
        },
        {
          "output_type": "execute_result",
          "data": {
            "text/plain": [
              "array([ 2.82819308e-02,  4.29533683e-02,  9.57840234e-02,  1.38049424e-01,\n",
              "       -1.23814888e-01, -7.41634816e-02,  6.43098876e-02,  3.09208408e-04,\n",
              "        1.15740076e-01, -1.76323757e-01, -9.26368684e-02, -6.69668289e-03,\n",
              "        1.98636532e-01,  2.39945613e-02, -2.62314677e-01,  1.14349797e-01,\n",
              "       -3.48311886e-02,  8.03926736e-02,  9.96904522e-02, -2.35699695e-02,\n",
              "        2.35910788e-01,  5.05090132e-02, -2.75493897e-02, -8.59001130e-02,\n",
              "       -6.35966733e-02, -8.81980211e-02, -8.46317485e-02,  3.16980965e-02,\n",
              "       -1.84736505e-01,  1.72797088e-02,  1.39268674e-03,  1.28517643e-01,\n",
              "        7.57264160e-03, -5.77820316e-02, -1.35732353e-01,  9.72952917e-02,\n",
              "       -1.01045243e-01, -7.21212924e-02, -1.67097747e-02, -4.91435863e-02,\n",
              "        5.64303808e-02, -9.19092223e-02,  7.48488531e-02, -6.98813573e-02,\n",
              "       -4.39888686e-02,  1.16728008e-01,  2.21804336e-01, -5.10228463e-02,\n",
              "       -9.77281108e-02, -6.10954538e-02,  1.39492318e-01, -5.57815097e-02,\n",
              "       -3.29983532e-02,  1.49549931e-01, -5.55405095e-02, -6.15836605e-02,\n",
              "        4.46524881e-02, -2.94955205e-02, -2.69509628e-02, -2.90292464e-02,\n",
              "        1.06028050e-01, -6.01433665e-02,  1.84816290e-02, -1.46177217e-01,\n",
              "        5.98403551e-02, -9.06718373e-02, -2.64011800e-01,  9.73963365e-02,\n",
              "        4.04848270e-02, -3.18307569e-03,  1.70354992e-02,  2.06052270e-02,\n",
              "        1.31168127e-01, -1.23349413e-01,  8.82709324e-02,  4.65422273e-02,\n",
              "       -8.85350779e-02, -1.04776546e-01, -1.28116101e-01,  1.95415705e-01,\n",
              "       -1.36378527e-01,  7.24057481e-03,  1.06815726e-01,  3.07011545e-01,\n",
              "        6.50875717e-02, -4.06388268e-02,  1.38249835e-02,  1.12211652e-01,\n",
              "        2.18967542e-01,  2.18589697e-02,  2.24697962e-02, -5.29853739e-02,\n",
              "       -4.32776138e-02, -1.12206675e-01, -6.40453696e-02,  1.22973613e-01,\n",
              "       -1.80362612e-01,  1.55208986e-02,  6.74847066e-02,  4.79929261e-02,\n",
              "       -1.94338009e-01,  1.33381570e-02,  4.09379154e-02,  6.21537380e-02,\n",
              "       -1.47634417e-01, -9.22387764e-02,  1.58856995e-02,  3.23110335e-02,\n",
              "        1.22457268e-02,  4.79698591e-02, -3.44739854e-02,  9.48684290e-02,\n",
              "        1.53092965e-01,  1.51225384e-02, -1.53182015e-01,  4.47108597e-03,\n",
              "        7.10066333e-02,  4.21453789e-02, -2.35279184e-02,  1.14867985e-01,\n",
              "        2.04916894e-01,  1.17146760e-01, -1.30813301e-01,  1.29665837e-01,\n",
              "       -7.37352893e-02, -1.05102368e-01, -3.36450674e-02,  1.77322507e-01,\n",
              "       -5.97941829e-03,  1.60689559e-02, -1.50968254e-01, -5.56040816e-02,\n",
              "       -1.12196162e-01,  7.71617293e-02, -4.87086810e-02,  2.30167247e-02,\n",
              "       -3.62229627e-03, -1.69359282e-01, -1.26462290e-02,  1.62653010e-02,\n",
              "        1.39824614e-01,  9.66921896e-02, -1.40292826e-03, -7.01044453e-04,\n",
              "       -4.19927295e-03,  7.73215760e-03,  1.79743409e-01, -3.08372434e-02,\n",
              "        7.72935078e-02,  6.86400533e-02, -9.53299105e-02, -3.86485010e-02,\n",
              "       -1.91437453e-02, -5.85069098e-02,  7.46651664e-02,  4.57570851e-02,\n",
              "       -2.49315202e-02,  5.33682033e-02, -1.94462538e-02,  1.31347105e-01,\n",
              "       -6.05263785e-02,  5.19180857e-02,  1.27634913e-01, -1.01156486e-03,\n",
              "       -1.28771454e-01,  6.94708433e-03, -3.24919447e-03, -4.65253927e-02,\n",
              "       -1.55733809e-01,  1.78790092e-01, -3.89588736e-02,  5.13120070e-02,\n",
              "        1.65176377e-01,  9.43163633e-02,  2.03548595e-01, -1.07822500e-01,\n",
              "        1.52046144e-01, -9.16947145e-03, -2.38716435e-02,  5.24665341e-02,\n",
              "       -3.40506285e-02, -4.08371463e-02,  4.50880677e-02, -1.12012051e-01,\n",
              "        1.44672439e-01, -2.98897699e-02, -4.46586162e-02,  3.57157476e-02,\n",
              "        1.46125495e-01,  2.28778020e-01, -4.11263257e-02, -1.12377048e-01,\n",
              "       -1.56416222e-01, -1.05801574e-03,  1.45484030e-01,  6.80112541e-02,\n",
              "        2.16052800e-01,  4.67041694e-02, -5.50348014e-02, -1.12350658e-02,\n",
              "       -2.54320465e-02, -1.81068983e-02,  1.57122746e-01, -5.41424416e-02,\n",
              "       -5.37531078e-02,  1.31678715e-01,  1.26361027e-01,  3.04221213e-02,\n",
              "        1.20849222e-01, -8.77796337e-02,  1.29136831e-01,  1.58611368e-02,\n",
              "       -1.16494440e-01, -1.04942154e-02, -5.83482087e-02, -1.27542898e-01,\n",
              "        4.49327938e-02, -3.52655277e-02,  8.41409899e-04, -7.28184283e-02,\n",
              "        7.25470260e-02, -8.57300591e-04, -6.58569392e-03, -3.64982933e-02,\n",
              "       -7.36273378e-02,  1.18433230e-01,  1.32979363e-01, -2.14443132e-02,\n",
              "        1.01628833e-01,  1.85037285e-01,  1.12135395e-01,  4.77242500e-01,\n",
              "        4.14057150e-02, -2.52365321e-03,  6.37323260e-02,  5.82294613e-02,\n",
              "        1.34331882e-02,  1.20639205e-01, -1.08827315e-02, -5.56971766e-02,\n",
              "        4.17454429e-02, -2.93226987e-02,  2.39555854e-02,  6.23534620e-03,\n",
              "       -5.05400030e-03, -1.36409268e-01,  1.87499821e-02, -2.03389749e-02,\n",
              "       -2.30231546e-02, -9.40807536e-02, -2.49662362e-02, -8.22437108e-02,\n",
              "        2.42440738e-02,  5.48604615e-02, -1.81752108e-02,  5.62553480e-02,\n",
              "       -9.14319139e-03, -2.59390697e-02,  1.68858483e-01,  1.19909219e-01,\n",
              "        2.06346124e-01,  6.50835261e-02, -3.71820070e-02,  2.24439837e-02,\n",
              "        3.04448716e-02,  1.45732030e-01, -3.62081900e-02,  1.77369956e-02,\n",
              "       -3.92752048e-03, -1.67409200e-02,  8.54191706e-02,  3.56228910e-02,\n",
              "        8.02965537e-02,  1.01063088e-01,  1.27139777e-01, -1.28533155e-01,\n",
              "        1.24506904e-02, -1.39494941e-01,  6.00652397e-02,  1.77609682e-01,\n",
              "       -2.02136785e-01,  6.58132974e-03,  1.03949271e-01,  1.95476770e-01,\n",
              "       -9.05829072e-02, -4.52128686e-02,  5.84435537e-02,  7.75258020e-02,\n",
              "       -1.54225193e-02,  4.18364778e-02, -2.15962678e-02, -6.14442267e-02,\n",
              "       -1.91973764e-02, -2.05155730e-01, -5.80250695e-02, -1.71898320e-01,\n",
              "        1.75526500e-01,  1.38231730e-02,  1.11887529e-01,  1.22069731e-01],\n",
              "      dtype=float32)"
            ]
          },
          "metadata": {
            "tags": []
          },
          "execution_count": 5
        }
      ]
    },
    {
      "cell_type": "code",
      "metadata": {
        "id": "QdjjywfL8GTq",
        "colab": {
          "base_uri": "https://localhost:8080/"
        },
        "outputId": "41509650-ba63-4873-fbe2-cf2c8063f1ef"
      },
      "source": [
        "#@title 找出相似詞!!!\n",
        "\n",
        "text = '\\u798F\\u539F\\u611B' #@param {type:\"string\"}\n",
        "model.wv.most_similar(text)"
      ],
      "execution_count": null,
      "outputs": [
        {
          "output_type": "execute_result",
          "data": {
            "text/plain": [
              "[('江宏傑', 0.7769640684127808),\n",
              " ('江宏杰', 0.6791825294494629),\n",
              " ('王明俊', 0.6453269124031067),\n",
              " ('李亞軒', 0.6328298449516296),\n",
              " ('鄭怡靜', 0.6137341260910034),\n",
              " ('莊智淵', 0.6112247705459595),\n",
              " ('陳建安', 0.6087343692779541),\n",
              " ('海碩盃', 0.6062625646591187),\n",
              " ('松平健太', 0.6059966087341309),\n",
              " ('福原爱', 0.6043314933776855)]"
            ]
          },
          "metadata": {
            "tags": []
          },
          "execution_count": 17
        }
      ]
    },
    {
      "cell_type": "code",
      "metadata": {
        "colab": {
          "base_uri": "https://localhost:8080/"
        },
        "id": "4Pj8XhJoLWDA",
        "outputId": "f51e03d9-e7ee-4159-b763-e263a5c34a3d"
      },
      "source": [
        "\"轉蛋\" in model.wv.vocab"
      ],
      "execution_count": null,
      "outputs": [
        {
          "output_type": "execute_result",
          "data": {
            "text/plain": [
              "True"
            ]
          },
          "metadata": {
            "tags": []
          },
          "execution_count": 7
        }
      ]
    },
    {
      "cell_type": "code",
      "metadata": {
        "id": "lJORaH4JNzDS",
        "colab": {
          "base_uri": "https://localhost:8080/"
        },
        "outputId": "45879d8c-659f-4f51-b2a7-b3e85767d23b"
      },
      "source": [
        "#@title 比較兩個特定詞的相似度\n",
        "\n",
        "text1 = '\\u8AB2\\u91D1' #@param {type:\"string\"}\n",
        "text2 = '\\u8F49\\u86CB' #@param {type:\"string\"}\n",
        "model.wv.similarity(text1, text2)"
      ],
      "execution_count": null,
      "outputs": [
        {
          "output_type": "execute_result",
          "data": {
            "text/plain": [
              "0.52832663"
            ]
          },
          "metadata": {
            "tags": []
          },
          "execution_count": 8
        }
      ]
    },
    {
      "cell_type": "code",
      "metadata": {
        "id": "A3m66PlJJzgo",
        "colab": {
          "base_uri": "https://localhost:8080/"
        },
        "outputId": "f3b09f8a-d666-4206-d678-3ec27d1b12d3"
      },
      "source": [
        "#@title 找到不是同一掛的詞\n",
        "\n",
        "text1 = '\\u5468\\u6770\\u502B' #@param {type:\"string\"}\n",
        "text2 = '\\u856D\\u656C\\u9A30' #@param {type:\"string\"}\n",
        "text3 = '\\u76E7\\u5EE3\\u4EF2' #@param {type:\"string\"}\n",
        "text4 = '\\u8521\\u4F9D\\u6797' #@param {type:\"string\"}\n",
        "\n",
        "notmatch = model.wv.doesnt_match([text1, text2, text3, text4])\n",
        "print(\"不是同一掛的:\", notmatch)"
      ],
      "execution_count": null,
      "outputs": [
        {
          "output_type": "stream",
          "text": [
            "不是同一掛的: 蔡依林\n"
          ],
          "name": "stdout"
        }
      ]
    },
    {
      "cell_type": "code",
      "metadata": {
        "id": "i2kMoj47KTl1",
        "colab": {
          "base_uri": "https://localhost:8080/"
        },
        "outputId": "94256836-330e-473b-9631-50eba9e44705"
      },
      "source": [
        "#@title 給電腦做智力測驗(詞1 - 詞3 = ? - 詞2)\n",
        "\n",
        "# text1 + text2 - text3 = ?\n",
        "# text1 - text3 = ? - text2\n",
        "text1 = '\\u501A\\u5929\\u5C60\\u9F8D\\u8A18' #@param {type:\"string\"}\n",
        "text2 = '\\u674E\\u767D' #@param {type:\"string\"}\n",
        "text3 = '\\u91D1\\u5EB8' #@param {type:\"string\"}\n",
        "question = model.wv.most_similar(positive=[text1, text2], negative=[text3])\n",
        "print(text1, \"-\", text3, \"=\", \"?\", \"-\", text2)\n",
        "question"
      ],
      "execution_count": null,
      "outputs": [
        {
          "output_type": "stream",
          "text": [
            "倚天屠龍記 - 金庸 = ? - 李白\n"
          ],
          "name": "stdout"
        },
        {
          "output_type": "execute_result",
          "data": {
            "text/plain": [
              "[('赠汪伦', 0.3717178404331207),\n",
              " ('杜甫', 0.3602808117866516),\n",
              " ('崔颢', 0.33719098567962646),\n",
              " ('诗圣', 0.32668355107307434),\n",
              " ('秋浦歌', 0.3260282576084137),\n",
              " ('羌村', 0.32203420996665955),\n",
              " ('古朗月行', 0.3204810321331024),\n",
              " ('进酒', 0.3188731074333191),\n",
              " ('江阁', 0.3180239200592041),\n",
              " ('孟郊', 0.31480664014816284)]"
            ]
          },
          "metadata": {
            "tags": []
          },
          "execution_count": 23
        }
      ]
    },
    {
      "cell_type": "code",
      "metadata": {
        "colab": {
          "base_uri": "https://localhost:8080/"
        },
        "id": "TguMjAi-NZDY",
        "outputId": "abad0210-3ced-4c9f-d9ab-d85b6079c5de"
      },
      "source": [
        "text1 = '\\u5E25\\u54E5' #@param {type:\"string\"}\n",
        "text3 = '\\u7537' #@param {type:\"string\"}\n",
        "question = model.wv.most_similar(positive=[text1], negative=[text3])\n",
        "question"
      ],
      "execution_count": null,
      "outputs": [
        {
          "output_type": "execute_result",
          "data": {
            "text/plain": [
              "[('D還', 0.3439232409000397),\n",
              " ('櫃台', 0.34100887179374695),\n",
              " ('玩這個', 0.3405635356903076),\n",
              " ('自動化', 0.3366861343383789),\n",
              " ('個子', 0.3356419801712036),\n",
              " ('額頭', 0.3336927890777588),\n",
              " ('樹蔭', 0.3321351408958435),\n",
              " ('臉蛋', 0.33165156841278076),\n",
              " ('酷斃', 0.3301822245121002),\n",
              " ('社區', 0.32639551162719727)]"
            ]
          },
          "metadata": {
            "tags": []
          },
          "execution_count": 21
        }
      ]
    },
    {
      "cell_type": "code",
      "metadata": {
        "id": "gi-SM9U21jvW",
        "colab": {
          "base_uri": "https://localhost:8080/"
        },
        "outputId": "e6e17b9e-4036-4363-e6d0-7587a8832cc8"
      },
      "source": [
        "text = \"周凡剛\"\n",
        "print(\"machine-washabled有在字典裡?\", text in model.wv.vocab)\n",
        "model.wv.most_similar(text)"
      ],
      "execution_count": null,
      "outputs": [
        {
          "output_type": "stream",
          "text": [
            "machine-washabled有在字典裡? False\n"
          ],
          "name": "stdout"
        },
        {
          "output_type": "execute_result",
          "data": {
            "text/plain": [
              "[('Plurk.com', 0.7311971187591553),\n",
              " ('//www.plurk.com/ddrrelmax', 0.3652145564556122),\n",
              " ('浪唄', 0.3061898648738861),\n",
              " ('類♥♥', 0.2966107130050659),\n",
              " ('吧來撲', 0.2959628701210022),\n",
              " ('媽咪愛碎碎', 0.27673715353012085),\n",
              " ('293031', 0.2752768397331238),\n",
              " ('玩噗', 0.27147096395492554),\n",
              " ('動口不動手現', 0.26459649205207825),\n",
              " ('海用', 0.26184791326522827)]"
            ]
          },
          "metadata": {
            "tags": []
          },
          "execution_count": 25
        }
      ]
    }
  ]
}